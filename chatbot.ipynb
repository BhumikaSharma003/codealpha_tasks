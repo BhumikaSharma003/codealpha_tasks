{
 "cells": [
  {
   "cell_type": "code",
   "execution_count": 87,
   "id": "4c4913b9-6be6-41f7-8d18-20a55fc783c5",
   "metadata": {},
   "outputs": [],
   "source": [
    "import io\n",
    "import random\n",
    "import string \n",
    "import warnings\n",
    "import numpy as np\n",
    "from sklearn.feature_extraction.text import TfidfVectorizer\n",
    "from sklearn.metrics.pairwise import cosine_similarity\n",
    "import warnings\n",
    "warnings.filterwarnings('ignore')"
   ]
  },
  {
   "cell_type": "code",
   "execution_count": 88,
   "id": "3de3ce63-8a16-4745-a160-f383f15b4df0",
   "metadata": {},
   "outputs": [
    {
     "data": {
      "text/plain": [
       "True"
      ]
     },
     "execution_count": 88,
     "metadata": {},
     "output_type": "execute_result"
    }
   ],
   "source": [
    "import nltk\n",
    "from nltk.stem import WordNetLemmatizer\n",
    "nltk.download('popular', quiet=True) \n",
    "#nltk.download('punkt') \n",
    "#nltk.download('wordnet') "
   ]
  },
  {
   "cell_type": "code",
   "execution_count": 89,
   "id": "cf47ca48-0090-481a-b2d2-c62fba2f892d",
   "metadata": {},
   "outputs": [],
   "source": [
    "with open('nasa_data.txt', 'r', encoding='utf8', errors='ignore') as fin:\n",
    "    raw = fin.read().lower()"
   ]
  },
  {
   "cell_type": "code",
   "execution_count": 90,
   "id": "84c6874c-ee28-4053-a299-9d9d5e732929",
   "metadata": {},
   "outputs": [],
   "source": [
    "sent_tokens = nltk.sent_tokenize(raw)# converts to list of sentences \n",
    "word_tokens = nltk.word_tokenize(raw)# converts to list of words"
   ]
  },
  {
   "cell_type": "code",
   "execution_count": 91,
   "id": "2e02121e-3a7b-42f0-9bac-dd02196e34dd",
   "metadata": {},
   "outputs": [],
   "source": [
    "lemmer = nltk.stem.WordNetLemmatizer()\n",
    "#WordNet is a semantically-oriented dictionary of English included in NLTK.\n",
    "def LemTokens(tokens):\n",
    "    return [lemmer.lemmatize(token) for token in tokens]\n",
    "remove_punct_dict = dict((ord(punct), None) for punct in string.punctuation)\n",
    "\n",
    "def LemNormalize(text):\n",
    "    return LemTokens(nltk.word_tokenize(text.lower().translate(remove_punct_dict)))"
   ]
  },
  {
   "cell_type": "code",
   "execution_count": 82,
   "id": "01d70a6c-1694-4351-9d07-040d03aa7aef",
   "metadata": {},
   "outputs": [],
   "source": [
    "GREETING_INPUTS = (\"hello\", \"hi\", \"greetings\", \"sup\", \"what's up\",\"hey\",)\n",
    "GREETING_RESPONSES = [\"hi\", \"hey\", \"*nods*\", \"hi there\", \"hello\", \"I am glad! You are talking to me\"]\n",
    "def greeting(sentence):\n",
    " \n",
    "    for word in sentence.split():\n",
    "        if word.lower() in GREETING_INPUTS:\n",
    "            return random.choice(GREETING_RESPONSES)"
   ]
  },
  {
   "cell_type": "code",
   "execution_count": 93,
   "id": "f6fba048-80f5-4b27-8a9c-e23c4c5efb06",
   "metadata": {},
   "outputs": [],
   "source": [
    "# Generating response\n",
    "def response(user_response):\n",
    "    bob_response = ''\n",
    "    sent_tokens.append(user_response)\n",
    "    \n",
    "    # Vectorization\n",
    "    TfidfVec = TfidfVectorizer(tokenizer=LemNormalize, stop_words='english')\n",
    "    tfidf = TfidfVec.fit_transform(sent_tokens)\n",
    "    \n",
    "    # Calculate similarity\n",
    "    vals = cosine_similarity(tfidf[-1], tfidf)\n",
    "    idx = vals.argsort()[0][-2]\n",
    "    flat = vals.flatten()\n",
    "    flat.sort()\n",
    "    req_tfidf = flat[-2]\n",
    "    \n",
    "    # Check if a similar response is found\n",
    "    if req_tfidf == 0:\n",
    "        bob_response = \"I'm sorry, I don't have the information on that. You can learn more at NASA's official site: https://www.nasa.gov/\"\n",
    "    else:\n",
    "        bob_response = sent_tokens[idx]\n",
    "    \n",
    "    # Clean up\n",
    "    sent_tokens.remove(user_response)\n",
    "    \n",
    "    return bob_response\n"
   ]
  },
  {
   "cell_type": "code",
   "execution_count": 94,
   "id": "1e5fcbb9-f177-4969-af80-139ca33a0672",
   "metadata": {},
   "outputs": [
    {
     "name": "stdout",
     "output_type": "stream",
     "text": [
      "BOB: My name is Bob. I will answer your queries about NASA's recent discoveries. If you want to exit, type 'bye', 'exit', or 'quit'.\n"
     ]
    },
    {
     "name": "stdin",
     "output_type": "stream",
     "text": [
      " hello\n"
     ]
    },
    {
     "name": "stdout",
     "output_type": "stream",
     "text": [
      "BOB: hey\n"
     ]
    },
    {
     "name": "stdin",
     "output_type": "stream",
     "text": [
      " how are you?\n"
     ]
    },
    {
     "name": "stdout",
     "output_type": "stream",
     "text": [
      "BOB: I'm just a bunch of code, but I'm doing great! How about you?\n"
     ]
    },
    {
     "name": "stdin",
     "output_type": "stream",
     "text": [
      " great\n"
     ]
    },
    {
     "name": "stdout",
     "output_type": "stream",
     "text": [
      "BOB: thanks! How can I assist you?\n"
     ]
    },
    {
     "name": "stdin",
     "output_type": "stream",
     "text": [
      " tell me about nasa recent discoveries\n"
     ]
    },
    {
     "name": "stdout",
     "output_type": "stream",
     "text": [
      "BOB: # nasa recent discoveries\n",
      "\n",
      "## planetary discoveries\n",
      "\n",
      "**discovery of water on mars**\n",
      "nasa's curiosity rover has found evidence of ancient water on mars, indicating that the planet could have supported microbial life in the past.\n"
     ]
    },
    {
     "name": "stdin",
     "output_type": "stream",
     "text": [
      " good\n"
     ]
    },
    {
     "name": "stdout",
     "output_type": "stream",
     "text": [
      "BOB: thanks! How can I assist you?\n"
     ]
    },
    {
     "name": "stdin",
     "output_type": "stream",
     "text": [
      " can you give me mission updates\n"
     ]
    },
    {
     "name": "stdout",
     "output_type": "stream",
     "text": [
      "BOB: refer to this link for more information: https://mars.nasa.gov/technology/helicopter/\n",
      "\n",
      "## mission updates\n",
      "\n",
      "**artemis i mission**\n",
      "nasa's artemis i mission is preparing to return humans to the moon, with a goal of landing the first woman and the next man on the lunar surface by 2024. \n",
      "refer to this link for more information: https://www.nasa.gov/artemis-1\n",
      "\n",
      "**perseverance rover's search for life**\n",
      "nasa's perseverance rover is currently exploring mars, searching for signs of ancient life and collecting samples for future return to earth.\n"
     ]
    },
    {
     "name": "stdin",
     "output_type": "stream",
     "text": [
      " okay thanks\n"
     ]
    },
    {
     "name": "stdout",
     "output_type": "stream",
     "text": [
      "BOB: I'm sorry, I don't have the information on that. You can learn more at NASA's official site: https://www.nasa.gov/\n"
     ]
    },
    {
     "name": "stdin",
     "output_type": "stream",
     "text": [
      " thanks\n"
     ]
    },
    {
     "name": "stdout",
     "output_type": "stream",
     "text": [
      "BOB: You're welcome! Have a great day!\n"
     ]
    }
   ],
   "source": [
    "flag = True\n",
    "print(\"BOB: My name is Bob. I will answer your queries about NASA's recent discoveries. If you want to exit, type 'bye', 'exit', or 'quit'.\")\n",
    "\n",
    "while flag:\n",
    "    user_response = input().lower()\n",
    "    \n",
    "    # Check for exit commands\n",
    "    if user_response in ('bye', 'exit', 'quit', 'see you'):\n",
    "        flag = False\n",
    "        print(\"BOB: Bye! Take care..\")\n",
    "    \n",
    "    # Check for thanks\n",
    "    elif user_response in ('thanks', 'thank you'):\n",
    "        flag = False\n",
    "        print(\"BOB: You're welcome! Have a great day!\")\n",
    "    \n",
    "    # Check for basic queries\n",
    "    elif user_response in ('what is your name?', 'who are you?'):\n",
    "        print(\"BOB: My name is Bob! I'm here to help you with NASA's astrological discoveries.\")\n",
    "    \n",
    "    elif user_response in ('how are you','how are you?','how are you doing', 'how are you doing?'):\n",
    "        print(\"BOB: I'm just a bunch of code, but I'm doing great! How about you?\")\n",
    "    \n",
    "    elif user_response in ('how was your day?', 'how has your day been?'):\n",
    "        print(\"BOB: My day has been full of learning and helping users like you! How can I assist you?\")\n",
    "\n",
    "    elif user_response in ('good', 'great', 'nice', 'okay'):\n",
    "        print(\"BOB: thanks! How can I assist you?\")\n",
    "    \n",
    "    # Check for greetings\n",
    "    elif greeting(user_response) is not None:\n",
    "        print(\"BOB: \" + greeting(user_response))\n",
    "    \n",
    "    # Otherwise, process the input with the response function\n",
    "    else:\n",
    "        print(\"BOB: \" + response(user_response))\n"
   ]
  },
  {
   "cell_type": "code",
   "execution_count": null,
   "id": "67443c22-9144-440c-b48b-3b1608f2594a",
   "metadata": {},
   "outputs": [],
   "source": []
  }
 ],
 "metadata": {
  "kernelspec": {
   "display_name": "Python 3 (ipykernel)",
   "language": "python",
   "name": "python3"
  },
  "language_info": {
   "codemirror_mode": {
    "name": "ipython",
    "version": 3
   },
   "file_extension": ".py",
   "mimetype": "text/x-python",
   "name": "python",
   "nbconvert_exporter": "python",
   "pygments_lexer": "ipython3",
   "version": "3.11.9"
  }
 },
 "nbformat": 4,
 "nbformat_minor": 5
}
